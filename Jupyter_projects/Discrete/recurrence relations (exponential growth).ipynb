{
 "cells": [
  {
   "cell_type": "code",
   "execution_count": 2,
   "metadata": {},
   "outputs": [],
   "source": [
    "# Calculating compound interest recurence relation\n",
    "# Equation :  V_n = V_n-1 + V_n-1 (I) = V_n-1 (1+I)\n",
    "# initial value V_0 = 10000, Interest = 0.11 (11%)\n",
    "# figure it for 30 years\n",
    "y = 30 \n",
    "V = 10000\n",
    "I = 0.11"
   ]
  },
  {
   "cell_type": "code",
   "execution_count": 3,
   "metadata": {},
   "outputs": [
    {
     "name": "stdout",
     "output_type": "stream",
     "text": [
      "11100.000000000002\n",
      "12321.000000000004\n",
      "13676.310000000005\n",
      "15180.704100000006\n",
      "16850.58155100001\n",
      "18704.14552161001\n",
      "20761.601528987114\n",
      "23045.3776971757\n",
      "25580.36924386503\n",
      "28394.209860690185\n",
      "31517.572945366108\n",
      "34984.50596935638\n",
      "38832.80162598559\n",
      "43104.40980484401\n",
      "47845.89488337685\n",
      "53108.94332054831\n",
      "58950.927085808624\n",
      "65435.52906524758\n",
      "72633.43726242482\n",
      "80623.11536129155\n",
      "89491.65805103364\n",
      "99335.74043664735\n",
      "110262.67188467857\n",
      "122391.56579199321\n",
      "135854.63802911248\n",
      "150798.64821231487\n",
      "167386.49951566954\n",
      "185799.0144623932\n",
      "206236.90605325648\n",
      "228922.9657191147\n"
     ]
    }
   ],
   "source": [
    "for year in range(30) :\n",
    "    V = V * (1 + I)\n",
    "    print(V)"
   ]
  },
  {
   "cell_type": "code",
   "execution_count": 5,
   "metadata": {},
   "outputs": [
    {
     "name": "stdout",
     "output_type": "stream",
     "text": [
      "228922.96571911467\n"
     ]
    }
   ],
   "source": [
    "# also we can note that V_n = V_0 * (1 + I)^n\n",
    "V = 10000\n",
    "V = V * (1+I) ** 30\n",
    "print(V)"
   ]
  },
  {
   "cell_type": "code",
   "execution_count": null,
   "metadata": {},
   "outputs": [],
   "source": []
  }
 ],
 "metadata": {
  "kernelspec": {
   "display_name": "Python 3",
   "language": "python",
   "name": "python3"
  },
  "language_info": {
   "codemirror_mode": {
    "name": "ipython",
    "version": 3
   },
   "file_extension": ".py",
   "mimetype": "text/x-python",
   "name": "python",
   "nbconvert_exporter": "python",
   "pygments_lexer": "ipython3",
   "version": "3.7.1"
  }
 },
 "nbformat": 4,
 "nbformat_minor": 2
}
