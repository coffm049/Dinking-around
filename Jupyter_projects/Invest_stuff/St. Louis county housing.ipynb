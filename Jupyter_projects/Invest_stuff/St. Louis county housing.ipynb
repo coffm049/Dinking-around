{
 "cells": [
  {
   "cell_type": "code",
   "execution_count": 1,
   "metadata": {},
   "outputs": [],
   "source": [
    "import matplotlib.pyplot as plt\n",
    "import requests\n",
    "import pandas as pd\n",
    "import seaborn as sns\n",
    "import statsmodels.api as sm\n",
    "import statsmodels.formula.api as smf"
   ]
  },
  {
   "cell_type": "code",
   "execution_count": 18,
   "metadata": {},
   "outputs": [],
   "source": [
    "# This automatically closes the connection.\n",
    "#%%\n",
    "# ST. Louis County url \n",
    "#url = 'https://opendata.arcgis.com/datasets/4382d4a88f15450fbd6fb28ac9c64996_7.geojson'\n",
    "# ST. Louis County url with only first 100 land parcels shown\n",
    "#url = 'https://arcgiswapub.stlouiscountymn.gov/arcgis/rest/services/GeneralUse/OpenData/MapServer/7/query?where=OBJECTID%20%3E%3D%200%20AND%20OBJECTID%20%3C%3D%20100&outFields=*&outSR=4326&f=json'\n",
    "# only useful columns with 100 samples\n",
    "#url = 'https://arcgiswapub.stlouiscountymn.gov/arcgis/rest/services/GeneralUse/OpenData/MapServer/7/query?where=OBJECTID%20%3E%3D%200%20AND%20OBJECTID%20%3C%3D%20100&outFields=ACREAGE,TOWNSHIP,TAXABLE_BUILDING,NET_TAX,PHYSZIP,Shape,Shape.STArea(),TAX_YR,TOT_SPEC_ASMT,TAXABLE_LAND_VALUE,DEEDED_ACRES,SCH_DIST,LAND_EST,BalDue,ASMT_YR,Shape.STLength(),PHYSADDR,TaxableMarketValue,BUILDING,EstTotalValue,PHYSCITY&outSR=4326&f=json'\n",
    "# 100 samples with useful columns selected\n",
    "url = 'https://arcgiswapub.stlouiscountymn.gov/arcgis/rest/services/GeneralUse/OpenData/MapServer/7/query?where=OBJECTID%20%3E%3D%200%20AND%20OBJECTID%20%3C%3D%20100&outFields=ACREAGE,TOWNSHIP,TAXABLE_BUILDING,NET_TAX,PHYSZIP,Shape,Shape.STArea(),TAX_YR,TOT_SPEC_ASMT,TAXABLE_LAND_VALUE,DEEDED_ACRES,SCH_DIST,LAND_EST,BalDue,ASMT_YR,Shape.STLength(),PHYSADDR,TaxableMarketValue,BUILDING,EstTotalValue,PHYSCITY&outSR=4326&f=json'\n",
    "# First 1000                                                                                                                                                          # Here's the difference\n",
    "#url = 'https://arcgiswapub.stlouiscountymn.gov/arcgis/rest/services/GeneralUse/OpenData/MapServer/7/query?where=OBJECTID%20%3E%3D%200%20AND%20OBJECTID%20%3C%3D%201000&outFields=ACREAGE,TOWNSHIP,TAXABLE_BUILDING,NET_TAX,PHYSZIP,Shape,Shape.STArea(),TAX_YR,TOT_SPEC_ASMT,TAXABLE_LAND_VALUE,DEEDED_ACRES,SCH_DIST,LAND_EST,BalDue,ASMT_YR,Shape.STLength(),PHYSADDR,TaxableMarketValue,BUILDING,EstTotalValue,PHYSCITY&outSR=4326&f=json'\n",
    "# Import all data\n",
    "#url = 'https://arcgiswapub.stlouiscountymn.gov/arcgis/rest/services/GeneralUse/OpenData/MapServer/7/query?where=1%3D1&outFields=ACREAGE,TAXABLE_BUILDING,PHYSZIP,Shape,Shape.STArea(),TAX_YR,TAXABLE_LAND_VALUE,SCH_DIST,LAND_EST,Shape.STLength(),PHYSADDR,TaxableMarketValue,BUILDING,EstTotalValue,PHYSCITY&outSR=4326&f=json'\n",
    "# package the request, send it, and get the response r\n",
    "r= requests.get(url)\n",
    "#%%\n",
    "# get the json form from the request\n",
    "json_data = r.json()"
   ]
  },
  {
   "cell_type": "code",
   "execution_count": null,
   "metadata": {},
   "outputs": [],
   "source": [
    "# get name of each field\n",
    "cols = {}\n",
    "for field in json_data['fields'] :\n",
    "    cols[field['name']] = []\n",
    "\n",
    "# Turn dtaa into a dictionary that pandas can convert\n",
    "for observation in json_data['features'] :\n",
    "    for attr, val in observation['attributes'].items() :\n",
    "        cols[attr] = cols[attr] + [val]\n",
    "# Convert to pd dataframe        \n",
    "df = pd.DataFrame.from_dict(cols)\n",
    "# Drop all NA values because they are not useful right now\n",
    "df_clean = df.dropna()\n",
    "# Fix variable types to make regression modeling easier.\n",
    "df_clean['PHYSZIP'] = df_clean['PHYSZIP'].astype('int64')\n",
    "df_clean['TAX_YR'] = df_clean['TAX_YR'].astype('int64')"
   ]
  },
  {
   "cell_type": "code",
   "execution_count": null,
   "metadata": {},
   "outputs": [],
   "source": [
    "print(df_clean.head())"
   ]
  },
  {
   "cell_type": "code",
   "execution_count": null,
   "metadata": {},
   "outputs": [],
   "source": [
    "#%%\n",
    "model = sm.OLS(endog = df_clean['EstTotalValue'], exog = df_clean['BUILDING']).fit()\n",
    "predictions = model.predict(df_clean['BUILDING'])\n",
    "plt.scatter(df_clean['BUILDING'], df_clean['EstTotalValue'])\n",
    "plt.plot(df_clean['BUILDING'], predictions)\n",
    "sns.lmplot('BUILDING', 'EstTotalValue', data = df_clean)\n",
    "#%%\n",
    "# plot data to see how it looks\n",
    "#f, axes = plt.subplots(1, 2)\n",
    "sns.lmplot('ACREAGE', 'LAND_EST', data= df, hue = 'SCH_DIST')\n",
    "sns.lmplot('LAND_EST', 'EstTotalValue', data = df)\n",
    "sns.lmplot('BUILDING', 'EstTotalValue', data = df, row = 'PHYSZIP')\n",
    "\n",
    "#%%\n",
    "df_num = df_clean.drop(['PHYSZIP', 'TAX_YR', 'PHYSADDR', 'PHYSCITY', 'SCH_DIST'] , axis = 1)\n",
    "# plot all variables with one another to get an idea of how they behave\n",
    "sns.pairplot(df_num)\n",
    "# From this it was cleat that NET_TAX, DEEDED_ACRES, ASMT, BAL_DUE, ASMT_YR were just 0's so I removed them all from the data set\n",
    "# From this School disctric didn't have any variance and was thusremoved too. but this might be just becuase of the smaller dataset\n",
    "#%% "
   ]
  },
  {
   "cell_type": "code",
   "execution_count": null,
   "metadata": {},
   "outputs": [],
   "source": [
    "# REGRESSION MODELING\n",
    "\n",
    "# Convert discrete variables to categories\n",
    "df['famhist_ord'] = pd.Categorical(df.famhist).labels\n",
    "\n",
    "est = smf.ols(formula='EstTotalValue ~ ACREAGE * BUILDING', data=df).fit()"
   ]
  }
 ],
 "metadata": {
  "kernelspec": {
   "display_name": "Python 3",
   "language": "python",
   "name": "python3"
  },
  "language_info": {
   "codemirror_mode": {
    "name": "ipython",
    "version": 3
   },
   "file_extension": ".py",
   "mimetype": "text/x-python",
   "name": "python",
   "nbconvert_exporter": "python",
   "pygments_lexer": "ipython3",
   "version": "3.7.1"
  }
 },
 "nbformat": 4,
 "nbformat_minor": 2
}
